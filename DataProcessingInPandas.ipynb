{
  "nbformat": 4,
  "nbformat_minor": 0,
  "metadata": {
    "colab": {
      "provenance": [],
      "include_colab_link": true
    },
    "kernelspec": {
      "name": "python3",
      "display_name": "Python 3"
    },
    "language_info": {
      "name": "python"
    }
  },
  "cells": [
    {
      "cell_type": "markdown",
      "metadata": {
        "id": "view-in-github",
        "colab_type": "text"
      },
      "source": [
        "<a href=\"https://colab.research.google.com/github/jhuarancca/HealthcareArtificialntelligenceProjects/blob/main/DataProcessingInPandas.ipynb\" target=\"_parent\"><img src=\"https://colab.research.google.com/assets/colab-badge.svg\" alt=\"Open In Colab\"/></a>"
      ]
    },
    {
      "cell_type": "markdown",
      "metadata": {
        "id": "b6F1yIZB6IqK"
      },
      "source": [
        "Pandas is perhaps the most ubiquitous library in Python for data analysis. Built upon the powerful Numpy library, Pandas provides a fast and flexible data structure in Python for handling real-world datasets. Raw data is often presented in tabular form, shared using the .csv file format. Pandas provides a simple interface for importing these .csv files into a data structure known as DataFrames that makes it extremely easy to manipulate data in Python.\n",
        "\n",
        "All the datasets will be uploaded to the colab Notebooks"
      ]
    },
    {
      "cell_type": "code",
      "metadata": {
        "colab": {
          "base_uri": "https://localhost:8080/"
        },
        "id": "nJyyiQnY4f9p",
        "outputId": "55a27f0b-dd79-4e9a-9525-8880b7e46e81"
      },
      "source": [
        "from google.colab import drive\n",
        "drive.mount('/content/drive')"
      ],
      "execution_count": null,
      "outputs": [
        {
          "output_type": "stream",
          "name": "stdout",
          "text": [
            "Mounted at /content/drive\n"
          ]
        }
      ]
    },
    {
      "cell_type": "code",
      "metadata": {
        "colab": {
          "base_uri": "https://localhost:8080/"
        },
        "id": "JRT4z_rv5PaT",
        "outputId": "aad22c8c-8a3e-4530-b75f-c36425e0ab5e"
      },
      "source": [
        "%cd /content/drive/My Drive/Colab Notebooks"
      ],
      "execution_count": null,
      "outputs": [
        {
          "output_type": "stream",
          "name": "stdout",
          "text": [
            "/content/drive/My Drive/Colab Notebooks\n"
          ]
        }
      ]
    },
    {
      "cell_type": "code",
      "metadata": {
        "id": "3OABSZvO7AYy"
      },
      "source": [
        "import pandas as pd\n",
        "df = pd.read_csv(\"raw_data.csv\")"
      ],
      "execution_count": null,
      "outputs": []
    },
    {
      "cell_type": "markdown",
      "metadata": {
        "id": "gFMxsW2U7Opj"
      },
      "source": [
        "Once the data is imported as a DataFrame, we can easily perform data preprocessing on it. Let's work throught it using the Iris flower dataset. The Iris flower dataset is a commonly used dataset that contains data on the measurements (sepal length and width, petal length and width) of serveral classes of flowers. \n",
        "\n",
        "First let's import the dataset as provided for free by University of California Irvine (UCI).\n",
        "\n",
        "Pandas is able to improt a dataset directly from a URL."
      ]
    },
    {
      "cell_type": "code",
      "metadata": {
        "id": "Tsge4uCm7v3h"
      },
      "source": [
        "URL = \\\n",
        "    'https://archive.ics.uci.edu/ml/machine-learning-databases/iris/iris.data'\n",
        "import pandas as pd\n",
        "df = pd.read_csv(URL, names=['sepal_length','sepal_width','petal_length','petal_width', 'class'])"
      ],
      "execution_count": null,
      "outputs": []
    },
    {
      "cell_type": "markdown",
      "metadata": {
        "id": "GE9zR7r38JYP"
      },
      "source": [
        "Now that it is in a DataFrame, we can easily manipulate the data. First, let's get a summary of the data as it is always important to know what kind of data we are working with."
      ]
    },
    {
      "cell_type": "code",
      "metadata": {
        "colab": {
          "base_uri": "https://localhost:8080/"
        },
        "id": "dtqY35SP8Ijd",
        "outputId": "7c8e5752-e894-4851-fc71-667849d8cc1a"
      },
      "source": [
        "print(df.info())"
      ],
      "execution_count": null,
      "outputs": [
        {
          "output_type": "stream",
          "text": [
            "<class 'pandas.core.frame.DataFrame'>\n",
            "RangeIndex: 150 entries, 0 to 149\n",
            "Data columns (total 5 columns):\n",
            " #   Column        Non-Null Count  Dtype  \n",
            "---  ------        --------------  -----  \n",
            " 0   sepal_length  150 non-null    float64\n",
            " 1   sepal_width   150 non-null    float64\n",
            " 2   petal_length  150 non-null    float64\n",
            " 3   petal_width   150 non-null    float64\n",
            " 4   class         150 non-null    object \n",
            "dtypes: float64(4), object(1)\n",
            "memory usage: 6.0+ KB\n",
            "None\n"
          ],
          "name": "stdout"
        }
      ]
    },
    {
      "cell_type": "markdown",
      "metadata": {
        "id": "zpE459Ze8ZU5"
      },
      "source": [
        "It looks like there are 150 rows in the dataset with four numeric columns containing information regarding the sepal_length and sepal width, along with petal_length and petal_width. Thre is also one non-numeric column containing information regarding the class (that is, species ) of the flowers"
      ]
    },
    {
      "cell_type": "markdown",
      "metadata": {
        "id": "yQKBg8no9K4D"
      },
      "source": [
        "We can get a quick statistical summary of the 4 numeric columns by calling the describe() function."
      ]
    },
    {
      "cell_type": "code",
      "metadata": {
        "colab": {
          "base_uri": "https://localhost:8080/"
        },
        "id": "5fE7m-RK9RnV",
        "outputId": "6d5e803b-39b2-422f-b5db-758da6734985"
      },
      "source": [
        "print(df.describe())"
      ],
      "execution_count": null,
      "outputs": [
        {
          "output_type": "stream",
          "text": [
            "       sepal_length  sepal_width  petal_length  petal_width\n",
            "count    150.000000   150.000000    150.000000   150.000000\n",
            "mean       5.843333     3.054000      3.758667     1.198667\n",
            "std        0.828066     0.433594      1.764420     0.763161\n",
            "min        4.300000     2.000000      1.000000     0.100000\n",
            "25%        5.100000     2.800000      1.600000     0.300000\n",
            "50%        5.800000     3.000000      4.350000     1.300000\n",
            "75%        6.400000     3.300000      5.100000     1.800000\n",
            "max        7.900000     4.400000      6.900000     2.500000\n"
          ],
          "name": "stdout"
        }
      ]
    },
    {
      "cell_type": "code",
      "metadata": {
        "colab": {
          "base_uri": "https://localhost:8080/"
        },
        "id": "M7p5n2c79VXM",
        "outputId": "ba3cc56c-7a2c-45b1-ed58-8f59456f50da"
      },
      "source": [
        "# Now let's take a look the first 10 rows of the data\n",
        "print(df.head(10))"
      ],
      "execution_count": null,
      "outputs": [
        {
          "output_type": "stream",
          "text": [
            "   sepal_length  sepal_width  petal_length  petal_width        class\n",
            "0           5.1          3.5           1.4          0.2  Iris-setosa\n",
            "1           4.9          3.0           1.4          0.2  Iris-setosa\n",
            "2           4.7          3.2           1.3          0.2  Iris-setosa\n",
            "3           4.6          3.1           1.5          0.2  Iris-setosa\n",
            "4           5.0          3.6           1.4          0.2  Iris-setosa\n",
            "5           5.4          3.9           1.7          0.4  Iris-setosa\n",
            "6           4.6          3.4           1.4          0.3  Iris-setosa\n",
            "7           5.0          3.4           1.5          0.2  Iris-setosa\n",
            "8           4.4          2.9           1.4          0.2  Iris-setosa\n",
            "9           4.9          3.1           1.5          0.1  Iris-setosa\n"
          ],
          "name": "stdout"
        }
      ]
    },
    {
      "cell_type": "markdown",
      "metadata": {
        "id": "66ZabYYD9fhH"
      },
      "source": [
        "Pandas also allows us to perform data wrangling easily. For example, we can do the following to filter and select rows with sepal_length greater than 5.o"
      ]
    },
    {
      "cell_type": "code",
      "metadata": {
        "id": "oV3t4afm9elf"
      },
      "source": [
        "df2 = df.loc[df['sepal_length'] > 5.0, ]\n"
      ],
      "execution_count": null,
      "outputs": []
    },
    {
      "cell_type": "code",
      "metadata": {
        "colab": {
          "base_uri": "https://localhost:8080/"
        },
        "id": "ND-_9fX092Sz",
        "outputId": "61e5a76d-e18e-4c7a-d7bb-50b70247eb95"
      },
      "source": [
        "print(df2)"
      ],
      "execution_count": null,
      "outputs": [
        {
          "output_type": "stream",
          "text": [
            "     sepal_length  sepal_width  petal_length  petal_width           class\n",
            "0             5.1          3.5           1.4          0.2     Iris-setosa\n",
            "5             5.4          3.9           1.7          0.4     Iris-setosa\n",
            "10            5.4          3.7           1.5          0.2     Iris-setosa\n",
            "14            5.8          4.0           1.2          0.2     Iris-setosa\n",
            "15            5.7          4.4           1.5          0.4     Iris-setosa\n",
            "..            ...          ...           ...          ...             ...\n",
            "145           6.7          3.0           5.2          2.3  Iris-virginica\n",
            "146           6.3          2.5           5.0          1.9  Iris-virginica\n",
            "147           6.5          3.0           5.2          2.0  Iris-virginica\n",
            "148           6.2          3.4           5.4          2.3  Iris-virginica\n",
            "149           5.9          3.0           5.1          1.8  Iris-virginica\n",
            "\n",
            "[118 rows x 5 columns]\n"
          ],
          "name": "stdout"
        }
      ]
    },
    {
      "cell_type": "markdown",
      "metadata": {
        "id": "4dzV24jG-IGq"
      },
      "source": [
        "The loc command allows us to access a group of rows and columns."
      ]
    },
    {
      "cell_type": "markdown",
      "metadata": {
        "id": "kLM-8tqT_QAb"
      },
      "source": [
        "**Data Visualization**\n",
        "\n",
        "EDA is perhaps one of the most important steps in the machine learning workflow, and pandas makes it extremely easy to visualize data in python. Pandas provides a high-level API for the popular matplotlib library, which makes it easy to construct plots directly from DataFrames.\n",
        "\n",
        "\n",
        "As an example, let's visualize the iris dataset using pandas to uncover inportant insights. Let's plot a scatterplot to visualize how sepal_width, is related to sepal_length. We can construct a scatterplot easily using the DataFrame.plot.scatter() method which is built into all DataFrames."
      ]
    },
    {
      "cell_type": "code",
      "metadata": {
        "colab": {
          "base_uri": "https://localhost:8080/",
          "height": 459
        },
        "id": "o5-m7nN0_8Br",
        "outputId": "401cba49-01c8-47d2-b576-2a3098257a09"
      },
      "source": [
        "# Define marker shapes by class.\n",
        "import matplotlib.pyplot as plt\n",
        "\n",
        "marker_shapes = ['.','^','*']\n",
        "#Then, plot the scatter plot\n",
        "ax = plt.axes()\n",
        "for i, species in enumerate(df['class'].unique()):\n",
        "    species_data = df[df['class'] == species]\n",
        "    species_data.plot.scatter(x='sepal_length',\n",
        "                              y='sepal_width', \n",
        "                              marker=marker_shapes[i],\n",
        "                              s=100,\n",
        "                              title=\"Sepal Width vs Length by Species\", \n",
        "                              label=species, figsize=(10,7), ax=ax)"
      ],
      "execution_count": null,
      "outputs": [
        {
          "output_type": "display_data",
          "data": {
            "image/png": "[encoded data removed]",
            "text/plain": [
              "<Figure size 720x504 with 1 Axes>"
            ]
          },
          "metadata": {
            "tags": [],
            "needs_background": "light"
          }
        }
      ]
    },
    {
      "cell_type": "markdown",
      "metadata": {
        "id": "Nn6GUbY-BFMU"
      },
      "source": [
        "From the scatterplot we can notice some interesting insights. First the relationship between sepal_width and sepal_length is dependent on the species. Setosa (dots) has a fairly linear relationship between sepal_width and sepal_length, while versicolor (triangle) and virginica (star) tends to have much greater sepal_length than Setosa. If we are designing a machine learning algorithm to predict the type of species of flower, we know that the sepal_Width and sepal_length are important features to include in our model."
      ]
    },
    {
      "cell_type": "markdown",
      "metadata": {
        "id": "lfwh63PUCGfl"
      },
      "source": [
        "Now we will plot a histogram to investigate the distribution. Consistent with scatterplots, pandas DataFrames provides a built in method to plot histograms using the DataFrame.plot.hist() function."
      ]
    },
    {
      "cell_type": "code",
      "metadata": {
        "colab": {
          "base_uri": "https://localhost:8080/",
          "height": 298
        },
        "id": "v5yVxau3CFew",
        "outputId": "9eb42244-4259-4c89-c6cc-98916afb8cb7"
      },
      "source": [
        "df['petal_length'].plot.hist(title='Histogram or Petal Length')"
      ],
      "execution_count": null,
      "outputs": [
        {
          "output_type": "execute_result",
          "data": {
            "text/plain": [
              "<matplotlib.axes._subplots.AxesSubplot at 0x7fb2cb0f5790>"
            ]
          },
          "metadata": {
            "tags": []
          },
          "execution_count": 15
        },
        {
          "output_type": "display_data",
          "data": {
            "image/png": "[encoded data removed]",
            "text/plain": [
              "<Figure size 432x288 with 1 Axes>"
            ]
          },
          "metadata": {
            "tags": [],
            "needs_background": "light"
          }
        }
      ]
    },
    {
      "cell_type": "markdown",
      "metadata": {
        "id": "KOppMS_oCjXg"
      },
      "source": [
        "We can see that the distribution of petal lengths is essentially bimodal. It appears that certain species of flowers have shorter patals than the rest. We can also plot a boxplot of the data. The boxplot is an important data visualization tool used by data scientists to understand the distribution of the data based of the first quartile, median and the third quatile."
      ]
    },
    {
      "cell_type": "code",
      "metadata": {
        "colab": {
          "base_uri": "https://localhost:8080/",
          "height": 299
        },
        "id": "thMUbqT4DAtg",
        "outputId": "1279f47f-e3e6-40e3-8207-81ccb4922cea"
      },
      "source": [
        "df.plot.box(title='Boxplot of Sepal length & Width and Petal Length & Width')"
      ],
      "execution_count": null,
      "outputs": [
        {
          "output_type": "execute_result",
          "data": {
            "text/plain": [
              "<matplotlib.axes._subplots.AxesSubplot at 0x7fb2cb005a10>"
            ]
          },
          "metadata": {
            "tags": []
          },
          "execution_count": 16
        },
        {
          "output_type": "display_data",
          "data": {
            "image/png": "[encoded data removed]",
            "text/plain": [
              "<Figure size 432x288 with 1 Axes>"
            ]
          },
          "metadata": {
            "tags": [],
            "needs_background": "light"
          }
        }
      ]
    },
    {
      "cell_type": "markdown",
      "metadata": {
        "id": "aXdsb8srDNcD"
      },
      "source": [
        "From the boxplot we can see that the variance of sepal_width is much smaller than the other numeric variables with petal_length having the reatest variance. "
      ]
    },
    {
      "cell_type": "markdown",
      "metadata": {
        "id": "ww1SXYhRD1IC"
      },
      "source": [
        "**Data Proprocessing in pandas**\n",
        "\n",
        "Lastly, let's take a look at how we can use pandas for data preprocessing, specifically to encode categorical variables and to impute missing values.\n",
        "\n",
        "Encoding categorical variables\n",
        "\n",
        "In machine learning projects, it is common to receive datasets with categorical variables. Here are some examples.\n",
        "\n",
        "1.   Gender: Male and female\n",
        "2.   Day: Monday, Tuesday, Wednesday, thursday and Friday\n",
        "1.   Country: USA, UK, China and Japan.\n",
        "\n",
        "\n",
        "Machine learning algorithms such as neural networks are unable to work with such categorical variables as they expect numerical variables. Therefore, we need to perofrm preprocessing on these variables before feeding them into a machine learning algorithm.\n",
        "\n",
        "\n",
        "One common way to convert these cateorical variables into numerical varaibles is a technique known as one-hot encoding, implemented by the get_dummies() function in pandas. One-hot encoding is a process that converts a categortical variable with n categories into n distinct binary features.\n",
        "\n",
        "Essentially, the transformed features are binary feaures with a 1 value of it represents the original feature and 0 otherwise. As you can imagein, it would be a hassle to write the code for this manually. Fortunately pandas has a handy function that does exactly that. First, let's create a DataFrame in pandas using the data in the following table:\n",
        "\n",
        "\n",
        "\n",
        "\n"
      ]
    },
    {
      "cell_type": "code",
      "metadata": {
        "id": "9uEkik4UFhBT",
        "colab": {
          "base_uri": "https://localhost:8080/",
          "height": 200
        },
        "outputId": "5544a1c5-a46a-4604-ade1-3770b6b4a431"
      },
      "source": [
        "df2 = pd.DataFrame({'Day': ['Monday','Tuesday','Wednesday',\n",
        "                           'Thursday','Friday','Saturday',\n",
        "                           'Sunday']})\n"
      ],
      "execution_count": null,
      "outputs": [
        {
          "output_type": "error",
          "ename": "NameError",
          "evalue": "ignored",
          "traceback": [
            "\u001b[0;31m---------------------------------------------------------------------------\u001b[0m",
            "\u001b[0;31mNameError\u001b[0m                                 Traceback (most recent call last)",
            "\u001b[0;32m<ipython-input-3-0f05d2462385>\u001b[0m in \u001b[0;36m<module>\u001b[0;34m\u001b[0m\n\u001b[0;32m----> 1\u001b[0;31m df2 = pd.DataFrame({'Day': ['Monday','Tuesday','Wednesday',\n\u001b[0m\u001b[1;32m      2\u001b[0m                            \u001b[0;34m'Thursday'\u001b[0m\u001b[0;34m,\u001b[0m\u001b[0;34m'Friday'\u001b[0m\u001b[0;34m,\u001b[0m\u001b[0;34m'Saturday'\u001b[0m\u001b[0;34m,\u001b[0m\u001b[0;34m\u001b[0m\u001b[0;34m\u001b[0m\u001b[0m\n\u001b[1;32m      3\u001b[0m                            'Sunday']})\n",
            "\u001b[0;31mNameError\u001b[0m: name 'pd' is not defined"
          ]
        }
      ]
    },
    {
      "cell_type": "code",
      "metadata": {
        "colab": {
          "base_uri": "https://localhost:8080/"
        },
        "id": "FUJpm9eGFtgT",
        "outputId": "1ce4b71c-8b79-47fc-9886-f6d7d7d0e616"
      },
      "source": [
        "print(df2)"
      ],
      "execution_count": null,
      "outputs": [
        {
          "output_type": "stream",
          "text": [
            "         Day\n",
            "0     Monday\n",
            "1    Tuesday\n",
            "2  Wednesday\n",
            "3   Thursday\n",
            "4     Friday\n",
            "5   Saturday\n",
            "6     Sunday\n"
          ],
          "name": "stdout"
        }
      ]
    },
    {
      "cell_type": "markdown",
      "metadata": {
        "id": "kiBN9rf8FwYx"
      },
      "source": [
        "To one-hot encode the above categorical feature using pandas. It is as simple as calling the function."
      ]
    },
    {
      "cell_type": "code",
      "metadata": {
        "id": "pA7_eY-xF2q7"
      },
      "source": [
        "print(pd.get_dummies(df2))"
      ],
      "execution_count": null,
      "outputs": []
    },
    {
      "cell_type": "markdown",
      "metadata": {
        "id": "PB-vgSY1F7aI"
      },
      "source": [
        "**Imputing missing values**\n",
        "\n",
        "\n",
        "As discussed earlier, imputing missinv values is an esstial part of the machine learning workflow. Real-world datasets are messy and usually contain missing values. Most machine learning models such as neural netwrks are unable to work with missing data, and hence we ahave to preprocess the data before we feed the data into our models. Pandas makes it very easy to handle missing values.\n",
        "\n",
        "Let's use the Iris dataset. The iris dataset does not have nay mussing values by default. Therefore, we have to delete some of them in purpose for the sake of this excercise. We will randonly select 10 rows in the dataset adn deletes the sepal_legth values in these 10 rows."
      ]
    },
    {
      "cell_type": "code",
      "metadata": {
        "id": "l25wmyKKGt3k"
      },
      "source": [
        "import numpy as np\n",
        "URL =    'https://archive.ics.uci.edu/ml/machine-learning-databases/iris/iris.data'\n",
        "import pandas as pd\n",
        "df = pd.read_csv(URL, names=['sepal_length','sepal_width','petal_length','petal_width', 'class'])\n",
        "# Randomly select 10 rows"
      ],
      "execution_count": null,
      "outputs": []
    },
    {
      "cell_type": "code",
      "metadata": {
        "id": "H1u2uUXbG5NJ"
      },
      "source": [
        "random_index = np.random.choice(df.index, replace=False, size=10)\n",
        "#Set the sepal_length values of these rows to be None\n",
        "df.loc[random_index, 'sepal_length']= None"
      ],
      "execution_count": null,
      "outputs": []
    },
    {
      "cell_type": "markdown",
      "metadata": {
        "id": "Je61ARigHPML"
      },
      "source": [
        "Let;s use this modified dataset to see how we can deal with missing values. First let's check our missing values"
      ]
    },
    {
      "cell_type": "code",
      "metadata": {
        "colab": {
          "base_uri": "https://localhost:8080/"
        },
        "id": "sEh9qzoSHNB5",
        "outputId": "cb4b68ab-db6d-4281-e45a-382bfa22af94"
      },
      "source": [
        "print(df.isnull().any())"
      ],
      "execution_count": null,
      "outputs": [
        {
          "output_type": "stream",
          "name": "stdout",
          "text": [
            "sepal_length    False\n",
            "sepal_width     False\n",
            "petal_length    False\n",
            "petal_width     False\n",
            "class           False\n",
            "dtype: bool\n"
          ]
        }
      ]
    },
    {
      "cell_type": "markdown",
      "metadata": {
        "id": "6KgGn4GjHePZ"
      },
      "source": [
        "Unsurprisingly, pandas tells us that there are missing values that is null values in the sepal_length column. This command is usefil to find out wich columns in our datasets contains missing values.\n",
        "\n",
        "\n",
        "One way to deal with missing values is to simply remove any rows iwth missing values. Pandas provides a handy dropna function for us to do that.\n"
      ]
    },
    {
      "cell_type": "code",
      "metadata": {
        "colab": {
          "base_uri": "https://localhost:8080/"
        },
        "id": "4KI24rIQH30u",
        "outputId": "c085302e-5e47-4d3f-a461-614e25414bbb"
      },
      "source": [
        "print(\"Number of rows before deleting: %d\" % (df.shape[0]))\n",
        "df2 = df.dropna()\n",
        "print(\"Number of rows after deleting: %d\" % (df2.shape[0]))\n"
      ],
      "execution_count": null,
      "outputs": [
        {
          "output_type": "stream",
          "name": "stdout",
          "text": [
            "Number of rows before deleting: 150\n",
            "Number of rows after deleting: 150\n"
          ]
        }
      ]
    },
    {
      "cell_type": "markdown",
      "metadata": {
        "id": "HdHVp5N_IPrb"
      },
      "source": [
        "Another way is to replace the missing sepal_length values with the mean of the non-missing sepal_length values:"
      ]
    },
    {
      "cell_type": "code",
      "metadata": {
        "id": "PBHbE_n6IXJZ"
      },
      "source": [
        "df.sepal_length = df.sepal_length.fillna(df.sepal_length.mean())"
      ],
      "execution_count": null,
      "outputs": []
    },
    {
      "cell_type": "code",
      "metadata": {
        "colab": {
          "base_uri": "https://localhost:8080/"
        },
        "id": "jx5xhIG5IfWp",
        "outputId": "e281130f-0346-4204-aaaa-6f46d59515ff"
      },
      "source": [
        "print(df.sepal_length)"
      ],
      "execution_count": null,
      "outputs": [
        {
          "output_type": "stream",
          "name": "stdout",
          "text": [
            "0      5.1\n",
            "1      4.9\n",
            "2      4.7\n",
            "3      4.6\n",
            "4      5.0\n",
            "      ... \n",
            "145    6.7\n",
            "146    6.3\n",
            "147    6.5\n",
            "148    6.2\n",
            "149    5.9\n",
            "Name: sepal_length, Length: 150, dtype: float64\n"
          ]
        }
      ]
    },
    {
      "cell_type": "markdown",
      "metadata": {
        "id": "U8R3Xe5ZIpgb"
      },
      "source": [
        "With the missing values handled we can then pass the DataFrame to machine learning models."
      ]
    }
  ]
}